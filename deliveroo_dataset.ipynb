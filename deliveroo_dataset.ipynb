{
 "cells": [
  {
   "cell_type": "code",
   "execution_count": 1,
   "id": "e972a0a3",
   "metadata": {},
   "outputs": [],
   "source": [
    "import pandas as pd"
   ]
  },
  {
   "cell_type": "code",
   "execution_count": 5,
   "id": "9db5538c",
   "metadata": {},
   "outputs": [
    {
     "data": {
      "text/html": [
       "<div>\n",
       "<style scoped>\n",
       "    .dataframe tbody tr th:only-of-type {\n",
       "        vertical-align: middle;\n",
       "    }\n",
       "\n",
       "    .dataframe tbody tr th {\n",
       "        vertical-align: top;\n",
       "    }\n",
       "\n",
       "    .dataframe thead th {\n",
       "        text-align: right;\n",
       "    }\n",
       "</style>\n",
       "<table border=\"1\" class=\"dataframe\">\n",
       "  <thead>\n",
       "    <tr style=\"text-align: right;\">\n",
       "      <th></th>\n",
       "      <th>Customer_ID</th>\n",
       "      <th>Order Dates</th>\n",
       "      <th>Restaurant</th>\n",
       "      <th>MealName</th>\n",
       "      <th>Addressa</th>\n",
       "      <th>State Code</th>\n",
       "      <th>Order  Time</th>\n",
       "      <th>Delivery Temperature</th>\n",
       "      <th>Customer Subscription</th>\n",
       "      <th>lPrice in Euro</th>\n",
       "      <th>Total Quantity</th>\n",
       "      <th>Gender</th>\n",
       "      <th>Complaints</th>\n",
       "      <th>Desired Temperature</th>\n",
       "      <th>Tax_Sum</th>\n",
       "      <th>Refunded</th>\n",
       "      <th>TotalRevenue</th>\n",
       "    </tr>\n",
       "  </thead>\n",
       "  <tbody>\n",
       "    <tr>\n",
       "      <th>0</th>\n",
       "      <td>Deliveroo_cid_nlh_9352</td>\n",
       "      <td>Sunday, February 13, 2022</td>\n",
       "      <td>Dutch Dining</td>\n",
       "      <td>Mac and Cheese</td>\n",
       "      <td>Haarlemmermeer</td>\n",
       "      <td>NH</td>\n",
       "      <td>16:32:03</td>\n",
       "      <td>Normal</td>\n",
       "      <td>Premium</td>\n",
       "      <td>7.80</td>\n",
       "      <td>2</td>\n",
       "      <td>F</td>\n",
       "      <td>2</td>\n",
       "      <td>No</td>\n",
       "      <td>2.36</td>\n",
       "      <td>1.94</td>\n",
       "      <td>8.22</td>\n",
       "    </tr>\n",
       "    <tr>\n",
       "      <th>1</th>\n",
       "      <td>Deliveroo_cid_nlh_7457</td>\n",
       "      <td>Saturday, February 19, 2022</td>\n",
       "      <td>Cheese Chalet</td>\n",
       "      <td>Chinotto</td>\n",
       "      <td>Utrecht</td>\n",
       "      <td>NH</td>\n",
       "      <td>13:30:59</td>\n",
       "      <td>Normal</td>\n",
       "      <td>Premium</td>\n",
       "      <td>11.37</td>\n",
       "      <td>2</td>\n",
       "      <td>F</td>\n",
       "      <td>2</td>\n",
       "      <td>No</td>\n",
       "      <td>7.89</td>\n",
       "      <td>9.46</td>\n",
       "      <td>9.80</td>\n",
       "    </tr>\n",
       "    <tr>\n",
       "      <th>2</th>\n",
       "      <td>Deliveroo_cid_nlh_1037</td>\n",
       "      <td>Sunday, February 20, 2022</td>\n",
       "      <td>Netherlands Nosh</td>\n",
       "      <td>Ready-to-Eat Curry</td>\n",
       "      <td>Emmen</td>\n",
       "      <td>NH</td>\n",
       "      <td>22:57:10</td>\n",
       "      <td>Normal</td>\n",
       "      <td>Premium</td>\n",
       "      <td>12.14</td>\n",
       "      <td>2</td>\n",
       "      <td>F</td>\n",
       "      <td>3</td>\n",
       "      <td>No</td>\n",
       "      <td>5.06</td>\n",
       "      <td>0.00</td>\n",
       "      <td>17.20</td>\n",
       "    </tr>\n",
       "    <tr>\n",
       "      <th>3</th>\n",
       "      <td>Deliveroo_cid_nlh_3606</td>\n",
       "      <td>Tuesday, February 22, 2022</td>\n",
       "      <td>Pancake Palace</td>\n",
       "      <td>Tonica</td>\n",
       "      <td>Arnhem</td>\n",
       "      <td>NH</td>\n",
       "      <td>11:41:55</td>\n",
       "      <td>Normal</td>\n",
       "      <td>Basic</td>\n",
       "      <td>9.29</td>\n",
       "      <td>2</td>\n",
       "      <td>F</td>\n",
       "      <td>3</td>\n",
       "      <td>Yes</td>\n",
       "      <td>2.48</td>\n",
       "      <td>0.00</td>\n",
       "      <td>11.77</td>\n",
       "    </tr>\n",
       "    <tr>\n",
       "      <th>4</th>\n",
       "      <td>Deliveroo_cid_nlh_6865</td>\n",
       "      <td>Wednesday, February 23, 2022</td>\n",
       "      <td>Hague Harvest</td>\n",
       "      <td>Beef Broth</td>\n",
       "      <td>Sittard</td>\n",
       "      <td>NH</td>\n",
       "      <td>20:52:32</td>\n",
       "      <td>Normal</td>\n",
       "      <td>Basic</td>\n",
       "      <td>13.85</td>\n",
       "      <td>2</td>\n",
       "      <td>M</td>\n",
       "      <td>2</td>\n",
       "      <td>Yes</td>\n",
       "      <td>2.40</td>\n",
       "      <td>0.00</td>\n",
       "      <td>16.25</td>\n",
       "    </tr>\n",
       "  </tbody>\n",
       "</table>\n",
       "</div>"
      ],
      "text/plain": [
       "              Customer_ID                  Order Dates         Restaurant  \\\n",
       "0  Deliveroo_cid_nlh_9352     Sunday, February 13, 2022      Dutch Dining   \n",
       "1  Deliveroo_cid_nlh_7457   Saturday, February 19, 2022     Cheese Chalet   \n",
       "2  Deliveroo_cid_nlh_1037     Sunday, February 20, 2022  Netherlands Nosh   \n",
       "3  Deliveroo_cid_nlh_3606    Tuesday, February 22, 2022    Pancake Palace   \n",
       "4  Deliveroo_cid_nlh_6865  Wednesday, February 23, 2022     Hague Harvest   \n",
       "\n",
       "             MealName        Addressa State Code Order  Time  \\\n",
       "0      Mac and Cheese  Haarlemmermeer         NH    16:32:03   \n",
       "1            Chinotto         Utrecht         NH    13:30:59   \n",
       "2  Ready-to-Eat Curry           Emmen         NH    22:57:10   \n",
       "3              Tonica          Arnhem         NH    11:41:55   \n",
       "4          Beef Broth         Sittard         NH    20:52:32   \n",
       "\n",
       "  Delivery Temperature Customer Subscription  lPrice in Euro  Total Quantity  \\\n",
       "0               Normal               Premium            7.80               2   \n",
       "1               Normal               Premium           11.37               2   \n",
       "2               Normal               Premium           12.14               2   \n",
       "3               Normal                 Basic            9.29               2   \n",
       "4               Normal                 Basic           13.85               2   \n",
       "\n",
       "  Gender  Complaints Desired Temperature  Tax_Sum  Refunded  TotalRevenue  \n",
       "0      F           2                  No     2.36      1.94          8.22  \n",
       "1      F           2                  No     7.89      9.46          9.80  \n",
       "2      F           3                  No     5.06      0.00         17.20  \n",
       "3      F           3                 Yes     2.48      0.00         11.77  \n",
       "4      M           2                 Yes     2.40      0.00         16.25  "
      ]
     },
     "execution_count": 5,
     "metadata": {},
     "output_type": "execute_result"
    }
   ],
   "source": [
    "path = '/Users/laurasuemitsu/Desktop/DATA_FT_May_2025/Week 4/Mini project/Deliveroo_Netherlands.xlsx'\n",
    "\n",
    "deliveroo_df = pd.read_excel(path)\n",
    "\n",
    "deliveroo_df.head()"
   ]
  },
  {
   "cell_type": "code",
   "execution_count": 6,
   "id": "0f6b2775",
   "metadata": {},
   "outputs": [
    {
     "name": "stdout",
     "output_type": "stream",
     "text": [
      "<class 'pandas.core.frame.DataFrame'>\n",
      "RangeIndex: 10000 entries, 0 to 9999\n",
      "Data columns (total 17 columns):\n",
      " #   Column                 Non-Null Count  Dtype  \n",
      "---  ------                 --------------  -----  \n",
      " 0   Customer_ID            10000 non-null  object \n",
      " 1   Order Dates            10000 non-null  object \n",
      " 2   Restaurant             10000 non-null  object \n",
      " 3   MealName               10000 non-null  object \n",
      " 4   Addressa               10000 non-null  object \n",
      " 5   State Code             10000 non-null  object \n",
      " 6   Order  Time            10000 non-null  object \n",
      " 7   Delivery Temperature   10000 non-null  object \n",
      " 8   Customer Subscription  10000 non-null  object \n",
      " 9   lPrice in Euro         10000 non-null  float64\n",
      " 10  Total Quantity         10000 non-null  int64  \n",
      " 11  Gender                 10000 non-null  object \n",
      " 12  Complaints             10000 non-null  int64  \n",
      " 13  Desired Temperature    10000 non-null  object \n",
      " 14  Tax_Sum                10000 non-null  float64\n",
      " 15  Refunded               10000 non-null  float64\n",
      " 16  TotalRevenue           10000 non-null  float64\n",
      "dtypes: float64(4), int64(2), object(11)\n",
      "memory usage: 1.3+ MB\n"
     ]
    }
   ],
   "source": [
    "deliveroo_df.info()"
   ]
  },
  {
   "cell_type": "code",
   "execution_count": 8,
   "id": "143bfa64",
   "metadata": {},
   "outputs": [
    {
     "data": {
      "text/plain": [
       "Customer_ID              6362\n",
       "Order Dates               669\n",
       "Restaurant                 45\n",
       "MealName                  242\n",
       "Addressa                   41\n",
       "State Code                 12\n",
       "Order  Time              9411\n",
       "Delivery Temperature        4\n",
       "Customer Subscription       2\n",
       "lPrice in Euro           1276\n",
       "Total Quantity              5\n",
       "Gender                      2\n",
       "Complaints                  4\n",
       "Desired Temperature         2\n",
       "Tax_Sum                   801\n",
       "Refunded                  989\n",
       "TotalRevenue             2235\n",
       "dtype: int64"
      ]
     },
     "execution_count": 8,
     "metadata": {},
     "output_type": "execute_result"
    }
   ],
   "source": [
    "deliveroo_df.nunique()"
   ]
  },
  {
   "cell_type": "code",
   "execution_count": 15,
   "id": "896bd61b",
   "metadata": {},
   "outputs": [
    {
     "data": {
      "text/plain": [
       "MealName\n",
       "Cedrata               182\n",
       "Gelato Shake          121\n",
       "Limoncino             113\n",
       "Fernet-Branca         105\n",
       "Sanbittèr             104\n",
       "                     ... \n",
       "Pasta Carbonara        21\n",
       "Croissant              21\n",
       "Smoothie Mix           20\n",
       "Ready-to-Eat Salad     19\n",
       "Latte                  19\n",
       "Name: count, Length: 242, dtype: int64"
      ]
     },
     "execution_count": 15,
     "metadata": {},
     "output_type": "execute_result"
    }
   ],
   "source": [
    "deliveroo_df[\"MealName\"].value_counts()"
   ]
  },
  {
   "cell_type": "code",
   "execution_count": 16,
   "id": "580ab0e5",
   "metadata": {},
   "outputs": [
    {
     "data": {
      "text/plain": [
       "Customer_ID              0\n",
       "Order Dates              0\n",
       "Restaurant               0\n",
       "MealName                 0\n",
       "Addressa                 0\n",
       "State Code               0\n",
       "Order  Time              0\n",
       "Delivery Temperature     0\n",
       "Customer Subscription    0\n",
       "lPrice in Euro           0\n",
       "Total Quantity           0\n",
       "Gender                   0\n",
       "Complaints               0\n",
       "Desired Temperature      0\n",
       "Tax_Sum                  0\n",
       "Refunded                 0\n",
       "TotalRevenue             0\n",
       "dtype: int64"
      ]
     },
     "execution_count": 16,
     "metadata": {},
     "output_type": "execute_result"
    }
   ],
   "source": [
    "deliveroo_df.isnull().sum()"
   ]
  },
  {
   "cell_type": "code",
   "execution_count": 18,
   "id": "c837ed79",
   "metadata": {},
   "outputs": [
    {
     "data": {
      "text/plain": [
       "0"
      ]
     },
     "execution_count": 18,
     "metadata": {},
     "output_type": "execute_result"
    }
   ],
   "source": [
    "deliveroo_df.duplicated().sum()"
   ]
  },
  {
   "cell_type": "code",
   "execution_count": 22,
   "id": "122cdc45",
   "metadata": {},
   "outputs": [
    {
     "data": {
      "text/plain": [
       "Refunded\n",
       "0.00     8008\n",
       "2.59        7\n",
       "6.77        7\n",
       "11.98       7\n",
       "11.12       7\n",
       "         ... \n",
       "1.25        1\n",
       "11.57       1\n",
       "8.68        1\n",
       "3.44        1\n",
       "2.03        1\n",
       "Name: count, Length: 989, dtype: int64"
      ]
     },
     "execution_count": 22,
     "metadata": {},
     "output_type": "execute_result"
    }
   ],
   "source": [
    "deliveroo_df['Refunded'].value_counts()"
   ]
  },
  {
   "cell_type": "code",
   "execution_count": 23,
   "id": "7b5eab54",
   "metadata": {},
   "outputs": [
    {
     "data": {
      "text/plain": [
       "Complaints\n",
       "0    2515\n",
       "3    2513\n",
       "1    2492\n",
       "2    2480\n",
       "Name: count, dtype: int64"
      ]
     },
     "execution_count": 23,
     "metadata": {},
     "output_type": "execute_result"
    }
   ],
   "source": [
    "deliveroo_df['Complaints'].value_counts()"
   ]
  },
  {
   "cell_type": "code",
   "execution_count": null,
   "id": "ff109647",
   "metadata": {},
   "outputs": [],
   "source": []
  }
 ],
 "metadata": {
  "kernelspec": {
   "display_name": "base",
   "language": "python",
   "name": "python3"
  },
  "language_info": {
   "codemirror_mode": {
    "name": "ipython",
    "version": 3
   },
   "file_extension": ".py",
   "mimetype": "text/x-python",
   "name": "python",
   "nbconvert_exporter": "python",
   "pygments_lexer": "ipython3",
   "version": "3.12.7"
  }
 },
 "nbformat": 4,
 "nbformat_minor": 5
}
